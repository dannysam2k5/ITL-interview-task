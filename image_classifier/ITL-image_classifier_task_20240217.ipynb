{
 "cells": [
  {
   "cell_type": "markdown",
   "id": "b95f1576",
   "metadata": {},
   "source": [
    "# Introduction\n",
    "\n",
    "## ITL-Interview task : Image classification\n",
    "\n",
    "### Problem Statement\n",
    "\n",
    "If you had 10,000 pictures of oranges and 1,000 pictures of apples, implement a simple pipeline for classifying these images."
   ]
  },
  {
   "cell_type": "markdown",
   "id": "650a2ebd",
   "metadata": {},
   "source": [
    "# Step 1: Environment Setup and Data Loading"
   ]
  },
  {
   "cell_type": "markdown",
   "id": "07e9cc43",
   "metadata": {},
   "source": [
    "## 1.1 Install Dependencies"
   ]
  },
  {
   "cell_type": "code",
   "execution_count": 9,
   "id": "5abd63e9",
   "metadata": {},
   "outputs": [],
   "source": [
    "!pip install tensorflow opencv-python"
   ]
  },
  {
   "cell_type": "code",
   "execution_count": 35,
   "id": "c132efe0",
   "metadata": {},
   "outputs": [],
   "source": [
    "# Import relavant libraries\n",
    "\n",
    "import tensorflow as tf\n",
    "import os\n",
    "\n",
    "# data preprocessing libarires\n",
    "import cv2\n",
    "from PIL import Image"
   ]
  },
  {
   "cell_type": "markdown",
   "id": "ecb67283",
   "metadata": {},
   "source": [
    "## 1.2 Data Loading"
   ]
  },
  {
   "cell_type": "code",
   "execution_count": 34,
   "id": "436a56d3",
   "metadata": {},
   "outputs": [
    {
     "data": {
      "text/plain": [
       "['apples', 'oranges']"
      ]
     },
     "execution_count": 34,
     "metadata": {},
     "output_type": "execute_result"
    }
   ],
   "source": [
    "# instantiate the image director\n",
    "image_dir = 'data'\n",
    "\n",
    "# Display the list of directories in the image_dir\n",
    "os.listdir(image_dir)"
   ]
  },
  {
   "cell_type": "code",
   "execution_count": null,
   "id": "9d9d5b00",
   "metadata": {},
   "outputs": [],
   "source": []
  },
  {
   "cell_type": "markdown",
   "id": "8cea820a",
   "metadata": {},
   "source": [
    "# Step 2: Data Pre-processing"
   ]
  },
  {
   "cell_type": "code",
   "execution_count": 36,
   "id": "22581c23",
   "metadata": {},
   "outputs": [],
   "source": []
  },
  {
   "cell_type": "code",
   "execution_count": 45,
   "id": "1b70b292",
   "metadata": {},
   "outputs": [],
   "source": [
    "# Remove images with inappropriate image extentions\n",
    "\n",
    "def remove_inappropriate_images(directory, image_extensions):\n",
    "    for root, dirs, files in os.walk(directory):\n",
    "        for file in files:\n",
    "            # Remove spaces from the file name\n",
    "            new_file_name = file.replace(\" \", \"\")\n",
    "            file_path = os.path.join(root, file)\n",
    "            new_file_path = os.path.join(root, new_file_name)\n",
    "\n",
    "            # Check file extension and remove if inappropriate\n",
    "            _, file_extension = os.path.splitext(file)\n",
    "            if file_extension.lower() not in image_extensions:\n",
    "                os.remove(file_path)\n",
    "    \n",
    "            elif file != new_file_name:\n",
    "                os.rename(file_path, new_file_path)\n",
    "                "
   ]
  },
  {
   "cell_type": "code",
   "execution_count": 47,
   "id": "61b3a822",
   "metadata": {},
   "outputs": [],
   "source": [
    "# In appropriate iamge function Call\n",
    "\n",
    "# Define suitable image extensions\n",
    "image_exts = ['.jpeg','.jpg','.bmp','.png']\n",
    "\n",
    "remove_inappropriate_images(image_dir, image_exts)"
   ]
  },
  {
   "cell_type": "code",
   "execution_count": null,
   "id": "bbdb6ce4",
   "metadata": {},
   "outputs": [],
   "source": []
  },
  {
   "cell_type": "code",
   "execution_count": null,
   "id": "c294065a",
   "metadata": {},
   "outputs": [],
   "source": []
  },
  {
   "cell_type": "code",
   "execution_count": null,
   "id": "4fd72bfa",
   "metadata": {},
   "outputs": [],
   "source": []
  },
  {
   "cell_type": "code",
   "execution_count": null,
   "id": "e1e53cdf",
   "metadata": {},
   "outputs": [],
   "source": []
  },
  {
   "cell_type": "code",
   "execution_count": null,
   "id": "3dfdbc7b",
   "metadata": {},
   "outputs": [],
   "source": []
  },
  {
   "cell_type": "code",
   "execution_count": null,
   "id": "54ead689",
   "metadata": {},
   "outputs": [],
   "source": []
  },
  {
   "cell_type": "code",
   "execution_count": null,
   "id": "c48d792b",
   "metadata": {},
   "outputs": [],
   "source": []
  }
 ],
 "metadata": {
  "kernelspec": {
   "display_name": "Python 3 (ipykernel)",
   "language": "python",
   "name": "python3"
  },
  "language_info": {
   "codemirror_mode": {
    "name": "ipython",
    "version": 3
   },
   "file_extension": ".py",
   "mimetype": "text/x-python",
   "name": "python",
   "nbconvert_exporter": "python",
   "pygments_lexer": "ipython3",
   "version": "3.11.5"
  }
 },
 "nbformat": 4,
 "nbformat_minor": 5
}
