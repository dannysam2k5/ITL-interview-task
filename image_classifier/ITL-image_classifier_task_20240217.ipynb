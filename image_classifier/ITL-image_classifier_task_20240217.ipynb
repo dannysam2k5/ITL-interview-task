{
 "cells": [
  {
   "cell_type": "markdown",
   "id": "32c39591",
   "metadata": {},
   "source": [
    "# Introduction\n",
    "\n",
    "## ITL-Interview task : Image classification\n",
    "\n",
    "### Problem Statement\n",
    "\n",
    "If you had 10,000 pictures of oranges and 1,000 pictures of apples, implement a simple pipeline for classifying these images."
   ]
  },
  {
   "cell_type": "markdown",
   "id": "a4b8bb17",
   "metadata": {},
   "source": [
    "# Step 1: Environment Setup and Data Loading"
   ]
  },
  {
   "cell_type": "markdown",
   "id": "6dff2472",
   "metadata": {},
   "source": [
    "## 1.1 Install Dependencies"
   ]
  },
  {
   "cell_type": "code",
   "execution_count": 9,
   "id": "734aae9f",
   "metadata": {},
   "outputs": [],
   "source": [
    "!pip install tensorflow opencv-python"
   ]
  },
  {
   "cell_type": "code",
   "execution_count": 35,
   "id": "474ae2bd",
   "metadata": {},
   "outputs": [],
   "source": [
    "# Import relavant libraries\n",
    "\n",
    "import tensorflow as tf\n",
    "import os\n",
    "\n",
    "# data preprocessing libarires\n",
    "import cv2\n",
    "from PIL import Image"
   ]
  },
  {
   "cell_type": "markdown",
   "id": "c3a56a26",
   "metadata": {},
   "source": [
    "## 1.2 Data Loading"
   ]
  },
  {
   "cell_type": "code",
   "execution_count": 34,
   "id": "a2bcebd9",
   "metadata": {},
   "outputs": [
    {
     "data": {
      "text/plain": [
       "['apples', 'oranges']"
      ]
     },
     "execution_count": 34,
     "metadata": {},
     "output_type": "execute_result"
    }
   ],
   "source": [
    "# instantiate the image director\n",
    "image_dir = 'data'\n",
    "\n",
    "# Display the list of directories in the image_dir\n",
    "os.listdir(image_dir)"
   ]
  },
  {
   "cell_type": "code",
   "execution_count": null,
   "id": "1143724e",
   "metadata": {},
   "outputs": [],
   "source": []
  },
  {
   "cell_type": "markdown",
   "id": "1b334cf5",
   "metadata": {},
   "source": [
    "# Step 2: Data Pre-processing"
   ]
  },
  {
   "cell_type": "code",
   "execution_count": 36,
   "id": "a50c8c31",
   "metadata": {},
   "outputs": [],
   "source": []
  },
  {
   "cell_type": "code",
   "execution_count": 55,
   "id": "9f5e9927",
   "metadata": {},
   "outputs": [],
   "source": [
    "# Remove images with inappropriate image extentions\n",
    "\n",
    "def remove_inappropriate_images(directory, image_extensions):\n",
    "    for root, dirs, files in os.walk(directory):\n",
    "        for file in files:\n",
    "            # Remove spaces from the file name\n",
    "            new_file_name = file.replace(\" \", \"\").replace(\"(\", \"\").replace(\")\", \"\")\n",
    "            file_path = os.path.join(root, file)\n",
    "            new_file_path = os.path.join(root, new_file_name)\n",
    "\n",
    "            # Check file extension and remove if inappropriate\n",
    "            _, file_extension = os.path.splitext(file)\n",
    "            if file_extension.lower() not in image_extensions:\n",
    "                os.remove(file_path)\n",
    "    \n",
    "            elif file != new_file_name:\n",
    "                os.rename(file_path, new_file_path)\n",
    "                "
   ]
  },
  {
   "cell_type": "code",
   "execution_count": 56,
   "id": "91b592ba",
   "metadata": {},
   "outputs": [],
   "source": [
    "# In appropriate iamge function Call\n",
    "\n",
    "# Define suitable image extensions\n",
    "image_exts = ['.jpeg','.jpg','.bmp','.png']\n",
    "\n",
    "remove_inappropriate_images(image_dir, image_exts)"
   ]
  },
  {
   "cell_type": "code",
   "execution_count": 59,
   "id": "9b0c488b",
   "metadata": {},
   "outputs": [],
   "source": [
    "# lets view an image using the openCV libriary\n",
    "\n",
    "view_image = cv2.imread(os.path.join(image_dir,'apples', 'shopping1.jpeg'))\n"
   ]
  },
  {
   "cell_type": "code",
   "execution_count": 60,
   "id": "3c82b335",
   "metadata": {},
   "outputs": [
    {
     "data": {
      "text/plain": [
       "(460, 460, 3)"
      ]
     },
     "execution_count": 60,
     "metadata": {},
     "output_type": "execute_result"
    }
   ],
   "source": [
    "view_image.shape"
   ]
  },
  {
   "cell_type": "code",
   "execution_count": null,
   "id": "e311339b",
   "metadata": {},
   "outputs": [],
   "source": []
  },
  {
   "cell_type": "code",
   "execution_count": null,
   "id": "4328b944",
   "metadata": {},
   "outputs": [],
   "source": []
  },
  {
   "cell_type": "code",
   "execution_count": null,
   "id": "90bf4cc6",
   "metadata": {},
   "outputs": [],
   "source": []
  },
  {
   "cell_type": "code",
   "execution_count": null,
   "id": "2f06aa26",
   "metadata": {},
   "outputs": [],
   "source": []
  },
  {
   "cell_type": "code",
   "execution_count": null,
   "id": "1f5c8a6c",
   "metadata": {},
   "outputs": [],
   "source": []
  }
 ],
 "metadata": {
  "kernelspec": {
   "display_name": "Python 3 (ipykernel)",
   "language": "python",
   "name": "python3"
  },
  "language_info": {
   "codemirror_mode": {
    "name": "ipython",
    "version": 3
   },
   "file_extension": ".py",
   "mimetype": "text/x-python",
   "name": "python",
   "nbconvert_exporter": "python",
   "pygments_lexer": "ipython3",
   "version": "3.11.5"
  }
 },
 "nbformat": 4,
 "nbformat_minor": 5
}
